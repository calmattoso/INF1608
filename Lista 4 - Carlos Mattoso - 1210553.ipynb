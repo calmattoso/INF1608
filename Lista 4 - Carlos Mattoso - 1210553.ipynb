{
 "cells": [
  {
   "cell_type": "markdown",
   "metadata": {},
   "source": [
    "**Rio de Janeiro, 22 de Maio de 2016**\n",
    "\n",
    "Aluno: **Carlos Mattoso **_[ **1210553** ]_\n",
    "\n",
    "Disciplina: **INF1608 - Análise Numérica**"
   ]
  },
  {
   "cell_type": "markdown",
   "metadata": {},
   "source": [
    "# Lista 4"
   ]
  },
  {
   "cell_type": "markdown",
   "metadata": {},
   "source": [
    "## Método de Newton"
   ]
  },
  {
   "cell_type": "markdown",
   "metadata": {},
   "source": [
    "### Descrição\n",
    "Apresenta-se o pseudo-código do _método de Newton_ posteriormente implementado em _Python_. Este algoritmo foi extraído do _slide_ `12-8` de http://www.seas.ucla.edu/~vandenbe/103/lectures/newton.pdf:\n",
    "\n",
    "> Dado um $x$ inicial, uma constante de tolerância ${tol} > 0$ faça:\n",
    "> 1. Calcule $g = F(x)$ e $H = Df(x)$. \n",
    "> 2. Se $\\|g\\| \\leq {tol}$, retorne $x$.\n",
    "> 3. Resolva o sistema $Hv = −g$.\n",
    "> 4. $x = x + v$.\n",
    ">\n",
    "> Até que o número máximo de iterações `max_iter` seja excedido.\n",
    "\n",
    "### Implementação"
   ]
  },
  {
   "cell_type": "code",
   "execution_count": 217,
   "metadata": {
    "collapsed": false
   },
   "outputs": [],
   "source": [
    "import math\n",
    "import numpy as np\n",
    "\n",
    "# Referência: http://www.seas.ucla.edu/~vandenbe/103/lectures/newton.pdf\n",
    "def newton_method(F, DF, x=[], MAX_ITER=500, TOL=1e-8):\n",
    "    if not x:\n",
    "        x = np.zeros(len(F))\n",
    "    i = 0\n",
    "    try:\n",
    "        for i in range(MAX_ITER):\n",
    "            g = F(x)\n",
    "            H = DF(x)\n",
    "            if np.linalg.norm(g) <= TOL:\n",
    "                return x, i, True # converged!\n",
    "            v = np.linalg.solve(H,-g)\n",
    "            x = x + v\n",
    "    except:\n",
    "        # Caso H seja singular uma exceção será levantada e aqui capturada.\n",
    "        # Neste caso, a convergência não é possível [slide 12-15], então \n",
    "        # interrompe a execução e retorna o valor em que chegou e indicação de erro\n",
    "        pass\n",
    "    return x, i, False # did not converge!\n",
    "\n",
    "# Exibe os resultados obtivos vs esperados com o respetivo erro\n",
    "def eval_results(F, DF, x_init_conds, x_sols_exp, MAX_ITER=500, TOL=1e-8):\n",
    "    for idx, x_sol_exp in enumerate(x_sols_exp):\n",
    "        x_init = x_init_conds[idx]\n",
    "        x_sol, i, converged = newton_method(F, DF, x_init, MAX_ITER, TOL)\n",
    "        \n",
    "        conv_str = \"\"\n",
    "        if not converged:\n",
    "            conv_str = \" | NO CONVERGENCE (Singular H)\"\n",
    "\n",
    "        print(\"{%d%s} Obtido: %s vs Esperado: %s {Erro: %.6f, Iterações: %d}\" % \\\n",
    "              (idx+1, conv_str, str(x_sol), str(x_sol_exp), np.linalg.norm(x_sol - x_sol_exp), i))"
   ]
  },
  {
   "cell_type": "markdown",
   "metadata": {},
   "source": [
    "### Funções Auxiliares\n",
    "\n",
    "A fim de facilitar a seleção de candidatos a condições iniciais, disponibilizam-se abaixo funções adaptadas das entregues na _Lista 3_ e uma função que aplica o _método de Newton_ para uma série de condições iniciais e exibe os resultados obtidos, comparando-os aos esperados."
   ]
  },
  {
   "cell_type": "code",
   "execution_count": 218,
   "metadata": {
    "collapsed": true
   },
   "outputs": [],
   "source": [
    "import random\n",
    "import matplotlib.pyplot as plt\n",
    "\n",
    "%matplotlib inline\n",
    "\n",
    "def reta(t,px,py,qx,qy):\n",
    "    return px+t*(qx-px), py+t*(qy-py)\n",
    "\n",
    "def bissecao(F, f_idx, c,px,py,qx,qy,N):\n",
    "    a = 0.0\n",
    "    b = 1.0\n",
    "    ax,ay = reta(a,px,py,qx,qy)\n",
    "    bx,by = reta(b,px,py,qx,qy)\n",
    "    m = (a+b)/2.0\n",
    "    mx,my = reta(m,px,py,qx,qy) \n",
    "    \n",
    "    fa = F([ax,ay])[f_idx] - c\n",
    "    fb = F([bx,by])[f_idx] - c\n",
    "    fm = F([mx,my])[f_idx] - c\n",
    "    for i in range(N):\n",
    "        if (fa*fm < 0.0):\n",
    "            b  = m\n",
    "            fb = fm\n",
    "        elif (fb*fm < 0.0):\n",
    "            a  = m\n",
    "            fa = fm\n",
    "        else:\n",
    "            break\n",
    "        m  = (a+b)/2.0\n",
    "        mx,my = reta(m,px,py,qx,qy)\n",
    "        fm = F([mx,my])[f_idx] - c\n",
    "    return mx,my\n",
    "\n",
    "def triangleintersect(F,f_idx,c,ax,ay,bx,by,cx,cy,N):\n",
    "    fa = F([ax,ay])[f_idx] - c\n",
    "    fb = F([bx,by])[f_idx] - c\n",
    "    fc = F([cx,cy])[f_idx] - c\n",
    "    p  = []\n",
    "    if (fa*fb <= 0.0):\n",
    "        p.append(bissecao(F,f_idx,c,ax,ay,bx,by,N))\n",
    "    if (fb*fc <= 0.0):\n",
    "        p.append(bissecao(F,f_idx,c,bx,by,cx,cy,N))\n",
    "    if (fc*fa <= 0.0):\n",
    "        p.append(bissecao(F,f_idx,c,cx,cy,ax,ay,N))\n",
    "    return p\n",
    "\n",
    "def twocurves(F,c,xmin,xmax,ymin,ymax,m,n,NB):\n",
    "    deltax = (xmax - xmin)/m\n",
    "    deltay = (ymax - ymin)/n\n",
    "    l = []\n",
    "    k = []\n",
    "    tri_centers = []\n",
    "    xpt = []\n",
    "    ypt = []\n",
    "    for i in range(n):\n",
    "        x0 = xmin + i*deltax\n",
    "        x1 = x0 + deltax\n",
    "\n",
    "        for j in range(m): \n",
    "            y0 = ymin + j*deltay\n",
    "            y1 = y0 + deltay\n",
    "            \n",
    "            # right triangle\n",
    "            aresta_f = triangleintersect(F,0,c,x0,y0,x1,y0,x1,y1,NB)\n",
    "            if (aresta_f):\n",
    "                l.append(aresta_f)\n",
    "            aresta_g = triangleintersect(F,1,c,x0,y0,x1,y0,x1,y1,NB)\n",
    "            if (aresta_g):\n",
    "                k.append(aresta_g)   \n",
    "            # checa se zeros foram achados para ambas; se sim,\n",
    "            # então há chance das funções se cortarem neste nível\n",
    "            if (aresta_f and aresta_g):\n",
    "                tri_centers.append(((x0 + 2.0*x1)/3.0, (2.0*y0 + y1)/3.0)) # centroid   \n",
    "            \n",
    "            # left triangle\n",
    "            aresta_f = triangleintersect(F,0,c,x0,y0,x1,y1,x0,y1,NB)\n",
    "            if (aresta_f):\n",
    "                l.append(aresta_f)\n",
    "            aresta_g = triangleintersect(F,1,c,x0,y0,x1,y1,x0,y1,NB)\n",
    "            if (aresta_g):\n",
    "                k.append(aresta_g)\n",
    "            # checa se zeros foram achados para ambas; se sim,\n",
    "            # então há chance das funções se cortarem neste nível\n",
    "            if (aresta_f and aresta_g):\n",
    "                tri_centers.append(((2.0*x0 + x1)/3.0, (y0 + 2.0*y1)/3.0)) # centroid\n",
    "    \n",
    "    return l, k, tri_centers\n",
    "\n",
    "# Exibe as curvas de nível e os centros de triângulos encontrados\n",
    "def plot_curves(l, k, tri_centers, xmin, xmax, ymin, ymax, m, n):\n",
    "    fig = plt.gcf()\n",
    "    fig.set_size_inches(16.5, 8.5)\n",
    "    \n",
    "    deltax = (xmax - xmin)/m\n",
    "    deltay = (ymax - ymin)/n\n",
    "    \n",
    "    # Exibe curva de nível da f(x,y)\n",
    "    for i in range(len(l)):\n",
    "        px = []\n",
    "        py = [] \n",
    "        for j in range(len(l[i])):\n",
    "            px.append(l[i][j][0])\n",
    "            py.append(l[i][j][1])\n",
    "        plt.plot(px,py,color='blue')\n",
    "        \n",
    "    # Exibe curva de nível da g(x,y)\n",
    "    for i in range(len(k)):\n",
    "        px = []\n",
    "        py = [] \n",
    "        for j in range(len(k[i])):\n",
    "            px.append(k[i][j][0])\n",
    "            py.append(k[i][j][1])\n",
    "        plt.plot(px,py,color='red')\n",
    "        \n",
    "    # Exibe os centros de triângulo que tem chance de haver o\n",
    "    # cruzamento das curvas de nível das funções f e g. Adiciona\n",
    "    # um pouco de jitter para caso haja mais de um perto do outro possa-se ver.\n",
    "    px = []\n",
    "    py = []\n",
    "    random.seed()\n",
    "    for i in range(len(tri_centers)):\n",
    "        px.append(tri_centers[i][0] + random.uniform(-deltax/100.0, deltax/100.0))\n",
    "        py.append(tri_centers[i][1] + random.uniform(-deltay/100.0, deltay/100.0))\n",
    "    plt.plot(px,py,\"gx\", markersize=12, fillstyle=\"none\", markeredgewidth=1.5)\n",
    "    \n",
    "    plt.xlim(xmin,xmax)\n",
    "    plt.ylim(ymin,ymax)\n",
    "    plt.show()"
   ]
  },
  {
   "cell_type": "markdown",
   "metadata": {},
   "source": [
    "## Teste 1\n",
    "\n",
    "Sejam $f_1$, $f_2$ e $F_1$:\n",
    "$$\n",
    "    f_1(x_0, x_1) = \\exp(-(x_0^2 + x_1^2)) \\cos(x_0 x_1) - 0.1 \\\\\n",
    "    f_2(x_0, x_1) = x_0 x_1 - 0.1 \\\\\n",
    "    F_1(x_0, x_1) = \\left ( \\;f_1(x_0,x_1),\\;f_2(x_0,x_1) \\right )\n",
    "$$\n",
    "Seja ${DF}_1$ a _matriz Jacobiana_ de $F_1$:\n",
    "$$\n",
    "{DF}_1 =\n",
    "\\begin{vmatrix}\n",
    "  -2 x_0 \\exp\\left(-(x_0^2 + x_1^2)\\right)\\cos(x_0 x_1) - \\exp(-(x_0^2 + x_1^2)) \\sin(x_0 x_1)x_1 &\n",
    "  -2 x_1 \\exp\\left(-(x_0^2 + x_1^2)\\right)\\cos(x_0 x_1) - \\exp(-(x_0^2 + x_1^2)) \\sin(x_0 x_1)x_0 \\\\\n",
    "  x_1 & x_0  \n",
    "\\end{vmatrix}\n",
    "$$\n",
    "\n",
    "Deseja-se obter $\\hat{x}$ que melhor aproxime a solução do sistema $F_1(\\hat{x})= 0$, utilizando-se o _método de Newton_.\n",
    "\n",
    "Primeiramente, visualizemos as funções para determinar boas condições iniciais."
   ]
  },
  {
   "cell_type": "code",
   "execution_count": 219,
   "metadata": {
    "collapsed": false
   },
   "outputs": [
    {
     "data": {
      "image/png": "[encoded data removed]",
      "text/plain": [
       "<matplotlib.figure.Figure at 0x10d512400>"
      ]
     },
     "metadata": {},
     "output_type": "display_data"
    },
    {
     "name": "stdout",
     "output_type": "stream",
     "text": [
      "Candidatos a condições iniciais: \n",
      "[(-1.5166666666666664, -0.08333333333333298), (-1.5333333333333332, -0.0666666666666663), (-0.0666666666666663, -1.5333333333333332), (-0.08333333333333298, -1.5166666666666664), (0.08333333333333359, 1.5166666666666666), (0.06666666666666693, 1.5333333333333332), (1.5333333333333332, 0.06666666666666693), (1.5166666666666666, 0.08333333333333359)]\n"
     ]
    }
   ],
   "source": [
    "def F1(x):\n",
    "    f1 = math.exp(-(x[0]**2+x[1]**2))*math.cos(x[0]*x[1]) - 0.1\n",
    "    f2 = x[0]*x[1] - 0.1\n",
    "    Fx = np.array([f1,f2])\n",
    "    \n",
    "    return Fx\n",
    "\n",
    "def DF1(x):\n",
    "    DFx = np.zeros((2,2))\n",
    "    DFx[0][0] = (-2.0*x[0]*math.exp(-(x[0]**2+x[1]**2)))*math.cos(x[0]*x[1]) - \\\n",
    "                math.exp(-(x[0]**2+x[1]**2))*(math.sin(x[0]*x[1])*x[1])\n",
    "    DFx[0][1] = (-2.0*x[1]*math.exp(-(x[0]**2+x[1]**2)))*math.cos(x[0]*x[1]) - \\\n",
    "                math.exp(-(x[0]**2+x[1]**2))*(math.sin(x[0]*x[1])*x[0])\n",
    "    DFx[1][0] = x[1]\n",
    "    DFx[1][1] = x[0]\n",
    "    \n",
    "    return DFx\n",
    "\n",
    "l, k, tri_centers = twocurves(F1,0.0,-2.5,2.5,-2.5,2.5,100,100,20)\n",
    "plot_curves(l, k, tri_centers, -2.5, 2.5, -2.5, 2.5, 100, 100)\n",
    "print(\"Candidatos a condições iniciais: \")\n",
    "print(tri_centers)"
   ]
  },
  {
   "cell_type": "markdown",
   "metadata": {},
   "source": [
    "Na _Lista 3_ identificamos os centros dos triângulos que tem chance de conter o cruzamento das funções sob análise, para um dado nível. Acima pode-se visualizar tais pontos para o nível $z = 0$ e, devido a sua proximidade as raízes, é vantajoso utilizá-los como condições iniciais. Como para cada raiz encontrou-se mais de um centro de triângulo, selecionam-se manualmente alguns destes como candidatos iniciais e executa-se o _método de Newton_:"
   ]
  },
  {
   "cell_type": "code",
   "execution_count": 220,
   "metadata": {
    "collapsed": false
   },
   "outputs": [
    {
     "name": "stdout",
     "output_type": "stream",
     "text": [
      "{1} Obtido: [-0.06603551 -1.51433683] vs Esperado: [-0.0660355, -1.51434] {Erro: 0.000003, Iterações: 3}\n",
      "{2} Obtido: [ 0.06603551  1.51433683] vs Esperado: [0.0660355, 1.51434] {Erro: 0.000003, Iterações: 3}\n",
      "{3} Obtido: [-1.51433683 -0.06603551] vs Esperado: [-1.51434, -0.0660355] {Erro: 0.000003, Iterações: 3}\n",
      "{4} Obtido: [ 1.51433683  0.06603551] vs Esperado: [1.51434, 0.0660355] {Erro: 0.000003, Iterações: 3}\n"
     ]
    }
   ],
   "source": [
    "# Soluções de: http://www.wolframalpha.com/input/?i=Solve%5Bexp(-(x_0%5E2%2Bx_1%5E2))+*+cos(x_0+*+x_1)+-+0.1%3D0,+x_0*x_1+-+0.1%3D0%5D\n",
    "eval_results(F1, DF1,\\\n",
    "             x_init_conds = [(-0.03333333333333297, -1.5666666666666664), (0.06666666666666667, 1.5333333333333332), \\\n",
    "                             (-1.533333333333333, -0.0666666666666663), (1.5333333333333332, 0.06666666666666667)], \\\n",
    "             x_sols_exp = [[-0.0660355, -1.51434], [0.0660355, 1.51434], \\\n",
    "                           [-1.51434, -0.0660355], [1.51434, 0.0660355]])"
   ]
  },
  {
   "cell_type": "markdown",
   "metadata": {},
   "source": [
    "Como estas condições iniciais já são muito próximas as raízes, utiliza-se abaixo uma seleção de pontos um pouco mais distantes, para ver quantas iterações o algoritmo leva neste caso:"
   ]
  },
  {
   "cell_type": "code",
   "execution_count": 221,
   "metadata": {
    "collapsed": false
   },
   "outputs": [
    {
     "name": "stdout",
     "output_type": "stream",
     "text": [
      "{1} Obtido: [-0.06603551 -1.51433683] vs Esperado: [-0.0660355, -1.51434] {Erro: 0.000003, Iterações: 5}\n",
      "{2} Obtido: [ 0.06603551  1.51433683] vs Esperado: [0.0660355, 1.51434] {Erro: 0.000003, Iterações: 5}\n",
      "{3} Obtido: [-1.51433683 -0.06603551] vs Esperado: [-1.51434, -0.0660355] {Erro: 0.000003, Iterações: 5}\n",
      "{4} Obtido: [ 1.51433683  0.06603551] vs Esperado: [1.51434, 0.0660355] {Erro: 0.000003, Iterações: 5}\n"
     ]
    }
   ],
   "source": [
    "# Soluções de: http://www.wolframalpha.com/input/?i=Solve%5Bexp(-(x_0%5E2%2Bx_1%5E2))+*+cos(x_0+*+x_1)+-+0.1%3D0,+x_0*x_1+-+0.1%3D0%5D\n",
    "eval_results(F1, DF1,\\\n",
    "             x_init_conds = [(-0.5, -1.8), (0.5, 1.8), \\\n",
    "                             (-1.8, -0.5), (1.8, 0.5)], \\\n",
    "             x_sols_exp = [[-0.0660355, -1.51434], [0.0660355, 1.51434], \\\n",
    "                           [-1.51434, -0.0660355], [1.51434, 0.0660355]])"
   ]
  },
  {
   "cell_type": "markdown",
   "metadata": {},
   "source": [
    "Ainda convergiu bem rápido."
   ]
  },
  {
   "cell_type": "markdown",
   "metadata": {},
   "source": [
    "## Teste 2\n",
    "\n",
    "Sejam $f_1$, $f_2$ e $F_2$:\n",
    "$$\n",
    "    f_1(x_0, x_1) = \\log(x_0^2 + 2x_1^2 + 1) - 0.5 \\\\\n",
    "    f_2(x_0, x_1) = x_1 + x_0^2 + 0.2 \\\\\n",
    "    F_2(x_0, x_1) = \\left ( \\;f_1(x_0,x_1),\\;f_2(x_0,x_1) \\right )\n",
    "$$\n",
    "Seja $DF_2$ a _matriz Jacobiana_ de $F_2$:\n",
    "$$\n",
    "{DF}_2 =\n",
    "\\begin{vmatrix}\n",
    "  \\frac{2x_0}{\\ln(x_0^2 + 2x_1^2 + 1)} & \\frac{4x_1}{\\ln(x_0^2 + 2x_1^2 + 1)} \\\\\n",
    "  -2x_0 & 1.0  \n",
    "\\end{vmatrix}\n",
    "$$\n",
    "\n",
    "Deseja-se obter $\\hat{x}$ que melhor aproxime a solução do sistema $F_2(\\hat{x})= 0$, utilizando-se o _método de Newton_. Façamos o mesmo que no teste anterior, primeiramente aplicando o _método de Newton_ com as condições iniciais obtidas através dos métodos da _Lista 3_ e posteriormente condições iniciais piores, a fim de avaliar a convergência."
   ]
  },
  {
   "cell_type": "code",
   "execution_count": 223,
   "metadata": {
    "collapsed": false
   },
   "outputs": [
    {
     "data": {
      "image/png": "[encoded data removed]",
      "text/plain": [
       "<matplotlib.figure.Figure at 0x10e635a58>"
      ]
     },
     "metadata": {},
     "output_type": "display_data"
    },
    {
     "name": "stdout",
     "output_type": "stream",
     "text": [
      "Candidatos a condições iniciais: \n",
      "[(-0.7066666666666667, 0.2866666666666667), (-0.6933333333333334, 0.2933333333333334), (0.6933333333333334, 0.2866666666666667), (0.7066666666666667, 0.2933333333333334)]\n",
      "{1} Obtido: [ 0.69684555  0.28559372] vs Esperado: [0.7, 0.29] {Erro: 0.005419, Iterações: 40}\n",
      "{2} Obtido: [-0.69684555  0.28559372] vs Esperado: [-0.7, 0.29] {Erro: 0.005419, Iterações: 36}\n"
     ]
    }
   ],
   "source": [
    "# Retiradas do slide 12-10 @ http://www.seas.ucla.edu/~vandenbe/103/lectures/newton.pdf\n",
    "# Soluções esperadas: (0.70, 0.29), (-0.70, 0.29)\n",
    "def F2(x):\n",
    "    f1 = math.log(x[0]**2.0 + 2.0*x[1]**2.0 + 1.0) - 0.5\n",
    "    f2 = x[1] - x[0]**2.0 + 0.2\n",
    "    Fx = np.array([f1,f2])\n",
    "    return Fx\n",
    "\n",
    "def DF2(x):\n",
    "    DFx = np.zeros((2,2), dtype=float)\n",
    "    DFx[0][0] = 2.0*x[0]/(math.log(x[0]**2.0 + 2.0*x[1]**2.0 + 1.0))\n",
    "    DFx[0][1] = 4.0*x[1]/(math.log(x[0]**2.0 + 2.0*x[1]**2.0 + 1.0))\n",
    "    DFx[1][0] = -2.0*x[0]\n",
    "    DFx[1][1] = 1.0\n",
    "    \n",
    "    return DFx\n",
    "\n",
    "l, k, tri_centers = twocurves(F2,0.0,-1.0,1.0,-1.0,1.0,100,100,20)\n",
    "plot_curves(l, k, tri_centers, -1.0, 1.0, -1.0, 1.0, 100, 100)\n",
    "print(\"Candidatos a condições iniciais: \")\n",
    "print(tri_centers)\n",
    "\n",
    "eval_results(F2, DF2, \\\n",
    "             x_init_conds = [(0.6933333333333335, 0.2666666666666669), (-0.7066666666666667, 0.2666666666666669)], \\\n",
    "             x_sols_exp = [[0.70, 0.29], [-0.70, 0.29]])"
   ]
  },
  {
   "cell_type": "code",
   "execution_count": 224,
   "metadata": {
    "collapsed": false
   },
   "outputs": [
    {
     "name": "stdout",
     "output_type": "stream",
     "text": [
      "{1} Obtido: [ 0.69684556  0.28559373] vs Esperado: [0.7, 0.29] {Erro: 0.005419, Iterações: 50}\n",
      "{2} Obtido: [-0.69684556  0.28559373] vs Esperado: [-0.7, 0.29] {Erro: 0.005419, Iterações: 50}\n"
     ]
    }
   ],
   "source": [
    "eval_results(F2, DF2, \\\n",
    "             x_init_conds = [[1,1], [-1,1]], \\\n",
    "             x_sols_exp = [[0.70, 0.29], [-0.70, 0.29]])"
   ]
  },
  {
   "cell_type": "markdown",
   "metadata": {},
   "source": [
    "Obtiveram-se resultados bem próximos aos esperados, sendo o erro de menos de $1\\%$. Nota-se também que utilizando-se os centros dos triângulos a convergência acontece mais rapidamente, como esperado."
   ]
  }
 ],
 "metadata": {
  "kernelspec": {
   "display_name": "Python 3",
   "language": "python",
   "name": "python3"
  },
  "language_info": {
   "codemirror_mode": {
    "name": "ipython",
    "version": 3
   },
   "file_extension": ".py",
   "mimetype": "text/x-python",
   "name": "python",
   "nbconvert_exporter": "python",
   "pygments_lexer": "ipython3",
   "version": "3.5.1"
  }
 },
 "nbformat": 4,
 "nbformat_minor": 0
}
