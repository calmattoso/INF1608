{
 "cells": [
  {
   "cell_type": "markdown",
   "metadata": {},
   "source": [
    "## INF1608 - Análise Numérica - 2016.1\n",
    "## Departamento de Informática - PUC-Rio \n",
    "## Prof. Hélio Lopes - lopes@inf.puc-rio.br\n",
    "## http://www.inf.puc-rio.br/~lopes\n",
    "\n",
    "\n",
    "\n",
    "## 1 - Precisão finita\n",
    "\n",
    "__Erro e digitos significativos__\n",
    "\n",
    "Seja $\\hat{x}$ é uma aproximação para um número real $x$.\n",
    "\n",
    "Algumas medidas são usadas para medir o erro da aproximação $\\hat{x}$:\n",
    "\n",
    "- __erro absoluto__: \n",
    "$$E_{abs}(\\hat{x}) = |x-\\hat{x}|$$\n",
    "- __erro relativo__: \n",
    "$$E_{rel}(\\hat{x}) = \\frac{|x-\\hat{x}|}{|x|}, \\hbox{ se } x \\ne 0.$$\n",
    "\n",
    "O erro relativo é o mais utilizado em métodos numéricos porque ele é invariante a escala.\n",
    "\n",
    "O erro relativo é ligado ao conceito de digitos significativos. \n",
    "\n",
    "Os digitos significativos de um número consiste no primeiro digito diferente zero e todos os outros digitos consectivos desse número.\n",
    "\n",
    "Por exemplo:\n",
    "\n",
    "- 1.3465 tem 5 digitos significativos\n",
    "- 0.0341 tem 3 digitos significativos\n",
    "\n",
    "Definir quantos digitos significativos corretos o número $\\hat{x}$, que aproxima o número $x$, possui não é uma tarefa fácil.\n",
    "\n",
    "$$x = 1.00000, \\hat{x} = 1.00499, E_{rel}(\\hat{x}) = 4.99\\times 10^{-3}$$\n",
    "$$x = 9.00000, \\hat{x} = 8.99899, E_{rel}(\\hat{x}) = 1.12\\times 10^{-4}$$\n"
   ]
  },
  {
   "cell_type": "code",
   "execution_count": 1,
   "metadata": {
    "collapsed": false
   },
   "outputs": [
    {
     "data": {
      "text/plain": [
       "44.55357142857142"
      ]
     },
     "execution_count": 1,
     "metadata": {},
     "output_type": "execute_result"
    }
   ],
   "source": [
    "4.99e-3/1.12e-4"
   ]
  },
  {
   "cell_type": "markdown",
   "metadata": {},
   "source": [
    "Uma possível definição seria:\n",
    "\n",
    "__Definição:__ _Uma aproximação $\\hat{x}$ de $x$ tem $p$ digitos significativos corretos se $\\hat{x}$ e $x$ são arredondados para o mesmo número com $p$ digitos significativos. Onde arredondar significa substituir o número pelo o mais próximo com $p$ digitos significativos._\n",
    "\n",
    "Mas essa definição tem um problema:"
   ]
  },
  {
   "cell_type": "code",
   "execution_count": 20,
   "metadata": {
    "collapsed": false
   },
   "outputs": [
    {
     "data": {
      "text/plain": [
       "1.0"
      ]
     },
     "execution_count": 20,
     "metadata": {},
     "output_type": "execute_result"
    }
   ],
   "source": [
    "round(0.9951,2)\n",
    "\n"
   ]
  },
  {
   "cell_type": "code",
   "execution_count": 21,
   "metadata": {
    "collapsed": false
   },
   "outputs": [
    {
     "data": {
      "text/plain": [
       "0.99"
      ]
     },
     "execution_count": 21,
     "metadata": {},
     "output_type": "execute_result"
    }
   ],
   "source": [
    "round(0.9949,2)\n"
   ]
  },
  {
   "cell_type": "markdown",
   "metadata": {},
   "source": [
    "Outra definição que não sofre dessa anomalia diz que $\\hat{x}$ coincide com $x$ em $p$ digitos significativos se $|x-\\hat{x}|$ é menor do que a metade de uma unidade do $p$-ésimo digito significativo de $x$.\n",
    "\n",
    "Por essa definição, 0.123 e 0.127 concordam em 2 digitos significativos, mas a maioria das pessoas diriam que eles concordam em menos do que dois digitos.\n"
   ]
  },
  {
   "cell_type": "code",
   "execution_count": null,
   "metadata": {
    "collapsed": true
   },
   "outputs": [],
   "source": []
  }
 ],
 "metadata": {
  "kernelspec": {
   "display_name": "Python 2",
   "language": "python",
   "name": "python2"
  },
  "language_info": {
   "codemirror_mode": {
    "name": "ipython",
    "version": 2
   },
   "file_extension": ".py",
   "mimetype": "text/x-python",
   "name": "python",
   "nbconvert_exporter": "python",
   "pygments_lexer": "ipython2",
   "version": "2.7.11"
  }
 },
 "nbformat": 4,
 "nbformat_minor": 0
}
