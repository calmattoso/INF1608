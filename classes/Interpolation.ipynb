{
 "cells": [
  {
   "cell_type": "code",
   "execution_count": 1,
   "metadata": {
    "collapsed": false
   },
   "outputs": [
    {
     "name": "stdout",
     "output_type": "stream",
     "text": [
      "[[   1.    1.    1.    1.    1.]\n",
      " [   1.    2.    4.    8.   16.]\n",
      " [   1.    3.    9.   27.   81.]\n",
      " [   1.    4.   16.   64.  256.]\n",
      " [   1.    5.   25.  125.  625.]]\n",
      "[ -73.          146.25        -91.04166667   22.75         -1.95833333]\n",
      "2.01948391737e-26\n"
     ]
    },
    {
     "data": {
      "image/png": "[encoded data removed]",
      "text/plain": [
       "<matplotlib.figure.Figure at 0x109c176d0>"
      ]
     },
     "metadata": {},
     "output_type": "display_data"
    }
   ],
   "source": [
    "import numpy as np\n",
    "import matplotlib.pyplot as plt\n",
    "\n",
    "%matplotlib inline\n",
    "\n",
    "def evalp(x,c):\n",
    "    d = len(c)-1\n",
    "    p = c[0]\n",
    "    xp = 1.0\n",
    "    for i in range(d):\n",
    "        xp *= x\n",
    "        p += c[i+1]*xp\n",
    "    return p\n",
    "\n",
    "def buildVmatrix(x):\n",
    "    d = len(x)-1\n",
    "    A = np.zeros((len(x),d+1))\n",
    "    for i in range(len(x)):\n",
    "        for j in range(d+1):\n",
    "            A[i,j] = x[i]**j\n",
    "    return A\n",
    "\n",
    "def PolynomialInterpolation(x,y):\n",
    "    A = buildVmatrix(x)\n",
    "    c = np.linalg.solve(A,y)\n",
    "    return c\n",
    "\n",
    "def drawPolynomial(x,y,c,N,xmin,xmax):\n",
    "    delta = (xmax-xmin)/(N-1.0)\n",
    "    px = np.zeros(N)\n",
    "    py = np.zeros(N)\n",
    "    for i in range(N):\n",
    "        xp = xmin + i*delta\n",
    "        px[i] = xp\n",
    "        py[i] = evalp(xp,c)\n",
    "    plt.scatter(x,y)\n",
    "    plt.plot(px,py)\n",
    "    deltax = xmax - xmin\n",
    "    plt.xlim(xmin-0.2*deltax, xmax+0.2*deltax)\n",
    "    ymin = min([min(y),min(py)])\n",
    "    ymax = max([max(y),max(py)])\n",
    "    deltay = (ymax-ymin)\n",
    "    plt.ylim(ymin-0.5*deltay,ymax+0.5*deltay)\n",
    "    plt.show()\n",
    "\n",
    "x = [1.0,2.0,3.0,4.0,5.0]\n",
    "y = [3.0,6.0,2.0,10.0,2.0] \n",
    "d = 4\n",
    "\n",
    "A = buildVmatrix(x)\n",
    "print(A)\n",
    "\n",
    "c = PolynomialInterpolation(x,y)\n",
    "print(c)\n",
    "\n",
    "erro = np.linalg.norm(A.dot(c)-y)**2\n",
    "print(erro)\n",
    "\n",
    "\n",
    "drawPolynomial(x,y,c,100,min(x),max(x))\n",
    "\n"
   ]
  },
  {
   "cell_type": "code",
   "execution_count": 2,
   "metadata": {
    "collapsed": false
   },
   "outputs": [
    {
     "data": {
      "image/png": "[encoded data removed]",
      "text/plain": [
       "<matplotlib.figure.Figure at 0x10413ce90>"
      ]
     },
     "metadata": {},
     "output_type": "display_data"
    }
   ],
   "source": [
    "import numpy as np\n",
    "import matplotlib.pyplot as plt\n",
    "\n",
    "%matplotlib inline\n",
    "\n",
    "def evalLagrangePolynomial(x,xp,yp):\n",
    "    n = len(xp)\n",
    "    p = 0.0\n",
    "    for i in range(n):\n",
    "        Lin = 1.0\n",
    "        for j in range(n):\n",
    "            if (i != j):\n",
    "                Lin *= (x-xp[j])\n",
    "        Lid = 1.0\n",
    "        for j in range(n):\n",
    "            if (i != j):\n",
    "                Lid *= (xp[i]-xp[j])\n",
    "        Li = Lin/Lid\n",
    "        p += y[i]*Li\n",
    "    return p\n",
    "\n",
    "\n",
    "def drawLagrangePolynomial(x,y,N,xmin,xmax):\n",
    "    delta = (xmax-xmin)/(N-1.0)\n",
    "    px = np.zeros(N)\n",
    "    py = np.zeros(N)\n",
    "    for i in range(N):\n",
    "        xp = xmin + i*delta\n",
    "        px[i] = xp\n",
    "        py[i] = evalLagrangePolynomial(xp,x,y)\n",
    "    plt.scatter(x,y)\n",
    "    plt.plot(px,py)\n",
    "    deltax = xmax - xmin\n",
    "    plt.xlim(xmin-0.2*deltax, xmax+0.2*deltax)\n",
    "    ymin = min([min(y),min(py)])\n",
    "    ymax = max([max(y),max(py)])\n",
    "    deltay = (ymax-ymin)\n",
    "    plt.ylim(ymin-0.5*deltay,ymax+0.5*deltay)\n",
    "    plt.show()\n",
    "\n",
    "x = [1.0,2.0,3.0,4.0,5.0]\n",
    "y = [3.0,6.0,2.0,10.0,2.0] \n",
    "\n",
    "\n",
    "drawLagrangePolynomial(x,y,100,min(x),max(x))\n"
   ]
  },
  {
   "cell_type": "code",
   "execution_count": 17,
   "metadata": {
    "collapsed": false
   },
   "outputs": [
    {
     "data": {
      "image/png": "[encoded data removed]",
      "text/plain": [
       "<matplotlib.figure.Figure at 0x10f408110>"
      ]
     },
     "metadata": {},
     "output_type": "display_data"
    }
   ],
   "source": [
    "import numpy as np\n",
    "import matplotlib.pyplot as plt\n",
    "import math\n",
    "\n",
    "%matplotlib inline\n",
    "\n",
    "def evalSheppard(x,xp,yp,k):\n",
    "    n  = len(xp)\n",
    "    s  = np.zeros(n)\n",
    "    wt = 0.0\n",
    "    for i in range(n):\n",
    "        if (x == xp[i]):\n",
    "            return yp[i]\n",
    "        s[i] = 1.0/((abs(x-xp[i])))**k\n",
    "        wt += s[i]\n",
    "    p = 0.0\n",
    "    for i in range(n):\n",
    "        p += yp[i]*(s[i]/wt)\n",
    "    return p\n",
    "\n",
    "def drawSheppard(x,y,k,N,xmin,xmax):\n",
    "    delta = 2.0*(xmax-xmin)/(N-1.0)\n",
    "    px = np.zeros(N)\n",
    "    py = np.zeros(N)\n",
    "    for i in range(N):\n",
    "        xp = xmin + i*delta - N*delta/4.0\n",
    "        px[i] = xp\n",
    "        py[i] = evalSheppard(xp,x,y,k)\n",
    "    plt.scatter(x,y)\n",
    "    plt.plot(px,py)\n",
    "    deltax = xmax - xmin\n",
    "    plt.xlim(xmin-1.2*deltax, xmax+1.2*deltax)\n",
    "    ymin = min([min(y),min(py)])\n",
    "    ymax = max([max(y),max(py)])\n",
    "    deltay = (ymax-ymin)\n",
    "    plt.ylim(ymin-0.5*deltay,ymax+0.5*deltay)\n",
    "    plt.show()\n",
    "\n",
    "x = [1.0,1.5,2.0,3.0,4.0,5.0]\n",
    "y = [3.0,3.2,6.0,2.0,10.0,2.0] \n",
    "\n",
    "\n",
    "drawSheppard(x,y,2,500,min(x),max(x))\n"
   ]
  },
  {
   "cell_type": "code",
   "execution_count": null,
   "metadata": {
    "collapsed": true
   },
   "outputs": [],
   "source": []
  }
 ],
 "metadata": {
  "kernelspec": {
   "display_name": "Python 2",
   "language": "python",
   "name": "python2"
  },
  "language_info": {
   "codemirror_mode": {
    "name": "ipython",
    "version": 2
   },
   "file_extension": ".py",
   "mimetype": "text/x-python",
   "name": "python",
   "nbconvert_exporter": "python",
   "pygments_lexer": "ipython2",
   "version": "2.7.11"
  }
 },
 "nbformat": 4,
 "nbformat_minor": 0
}
