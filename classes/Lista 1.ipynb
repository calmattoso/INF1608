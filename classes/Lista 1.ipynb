{
 "cells": [
  {
   "cell_type": "markdown",
   "metadata": {},
   "source": [
    "## INF1608 - Análise Numérica - 2016.1\n",
    "## Departamento de Informática - PUC-Rio \n",
    "## Prof. Hélio Lopes - lopes@inf.puc-rio.br\n",
    "## http://www.inf.puc-rio.br/~lopes\n",
    "\n",
    "\n",
    "\n",
    "## Lista 1\n",
    "\n",
    "1) Modifique a implementação da decomposição LU para incluir a permutação de linhas, obtendo a decomposição PA=LU.\n",
    "\n",
    "2) Implemente a função LUsolve que resolve o sistema Ax=b, tendo em mão a deomposição PA=LU.\n",
    "\n",
    "3) Utilize as implementações dos items 1 e 2 da lista para resolver o sistema:\n",
    "\n",
    "A = np.matrix([[1.,0.,0.,1.],[-1.,1.,0.,1.],[-1.,-1.,1.,1.],[-1.,-1.,-1.,1.]])\n",
    "e\n",
    "b = np.array([1.,1.,2.,0.])\n",
    "\n",
    "4) Faça uma função que verique se uma matriz A de tamanho nxn é estritamente diagonal dominante:\n",
    "        Definição: Uma matriz A (nxn) é estritamente diagonal dominante se para toda linha i vale:\n",
    "                   $$|A_{i,i}| > \\sum_{i=1, i\\ne j}^n |A_{i,j}|$$\n",
    "                   \n",
    "5) Implemente o método de Jacobi para a solução de um sistema de equações lineares. Defina um critério de parada para o seu método, e explique-o. \n",
    "        https://pt.wikipedia.org/wiki/M%C3%A9todo_de_Jacobi\n",
    "\n",
    "6) Implemente o método de Gauss-Seidel para a solução de um sistema de equações lineares. Defina um critério de parada para o seu método, e explique-o.\n",
    "        https://pt.wikipedia.org/wiki/M%C3%A9todo_de_Gauss-Seidel\n",
    "\n",
    "7) Teste muito bem todos esses algoritmos!"
   ]
  },
  {
   "cell_type": "code",
   "execution_count": null,
   "metadata": {
    "collapsed": true
   },
   "outputs": [],
   "source": []
  }
 ],
 "metadata": {
  "kernelspec": {
   "display_name": "Python 2",
   "language": "python",
   "name": "python2"
  },
  "language_info": {
   "codemirror_mode": {
    "name": "ipython",
    "version": 2
   },
   "file_extension": ".py",
   "mimetype": "text/x-python",
   "name": "python",
   "nbconvert_exporter": "python",
   "pygments_lexer": "ipython2",
   "version": "2.7.11"
  }
 },
 "nbformat": 4,
 "nbformat_minor": 0
}
