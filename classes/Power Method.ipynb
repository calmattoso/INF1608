{
 "cells": [
  {
   "cell_type": "code",
   "execution_count": 20,
   "metadata": {
    "collapsed": false
   },
   "outputs": [
    {
     "name": "stdout",
     "output_type": "stream",
     "text": [
      "22\n",
      "3.0\n",
      "[ 0.70710678  0.70710678]\n",
      "-1.0\n",
      "[ 0.70710678 -0.70710678]\n"
     ]
    }
   ],
   "source": [
    "import numpy as np\n",
    "\n",
    "def prod(A,x):\n",
    "    n = len(A) \n",
    "    res = np.copy(x)\n",
    "    for i in range(n):\n",
    "        res[i] = 0.0\n",
    "        for j in range(n):\n",
    "            res[i] += A[i,j]*x[j]\n",
    "    return res\n",
    "\n",
    "def innerprod(u,v):\n",
    "    n = len(u)\n",
    "    res = 0.0\n",
    "    for i in range(n):\n",
    "        res += u[i]*v[i]\n",
    "    return res\n",
    "\n",
    "def norm(u):\n",
    "    n = len(u)\n",
    "    res = 0.0\n",
    "    for i in range(n):\n",
    "        res += u[i]*u[i]\n",
    "    return np.sqrt(res)\n",
    "\n",
    "\n",
    "def diff(u,v):\n",
    "    n = len(u)\n",
    "    w = np.zeros(n)\n",
    "    for i in range(n):\n",
    "        w[i] = u[i] - v[i]\n",
    "    return w\n",
    "\n",
    "def normalize(v):\n",
    "    w = np.zeros(len(v))\n",
    "    norma = np.sqrt(innerprod(v,v))\n",
    "    if (norma == 0.0):\n",
    "        return w\n",
    "    for i in range(len(v)):\n",
    "        w[i] = v[i]/norma\n",
    "    return w\n",
    "\n",
    "def powermethod(A,v,maxiter,eps):\n",
    "    x0 = normalize(v) \n",
    "    n  = len(A)\n",
    "    for i in range(maxiter):\n",
    "        x1 = prod(A,x0)\n",
    "        x1 = normalize(x1)\n",
    "        erro = norm(diff(x1,x0))\n",
    "        if (erro < eps):\n",
    "            print(i)\n",
    "            break\n",
    "        x0 = np.copy(x1)\n",
    "    x1 = prod(A,x0)\n",
    "    lambda1 = innerprod(x1,x0)\n",
    "    return lambda1,x0\n",
    "\n",
    "def inversepowermethod(A,v,maxiter,eps):\n",
    "    x0 = normalize(v) \n",
    "    n  = len(A)\n",
    "    for i in range(maxiter):\n",
    "        x1 = np.linalg.solve(A,x0)\n",
    "        x1 = normalize(x1)\n",
    "        erro = norm(diff(x1,x0))\n",
    "        if (erro < eps):\n",
    "            print(i)\n",
    "            break\n",
    "        x0 = np.copy(x1)\n",
    "    x1 = prod(A,x0)\n",
    "    lambda1 = innerprod(x1,x0)\n",
    "    return lambda1,x0\n",
    "\n",
    "\n",
    "A = np.matrix([[1.0,2.0],[2.0,1.0]])\n",
    "v = np.array([2.0,0.0])\n",
    "\n",
    "l1,x1 = powermethod(A,v,100,0.0000000001)\n",
    "l2,x2 = inversepowermethod(A,v,100,0.0000000001)\n",
    "\n",
    "print(l1)\n",
    "print(x1)\n",
    "\n",
    "print(l2)\n",
    "print(x2)"
   ]
  },
  {
   "cell_type": "code",
   "execution_count": 26,
   "metadata": {
    "collapsed": false
   },
   "outputs": [
    {
     "data": {
      "text/plain": [
       "(array([ 3., -1.]), matrix([[ 0.70710678, -0.70710678],\n",
       "         [ 0.70710678,  0.70710678]]))"
      ]
     },
     "execution_count": 26,
     "metadata": {},
     "output_type": "execute_result"
    }
   ],
   "source": [
    "np.linalg.eig(A)"
   ]
  },
  {
   "cell_type": "code",
   "execution_count": null,
   "metadata": {
    "collapsed": true
   },
   "outputs": [],
   "source": []
  }
 ],
 "metadata": {
  "kernelspec": {
   "display_name": "Python 3",
   "language": "python",
   "name": "python3"
  },
  "language_info": {
   "codemirror_mode": {
    "name": "ipython",
    "version": 3
   },
   "file_extension": ".py",
   "mimetype": "text/x-python",
   "name": "python",
   "nbconvert_exporter": "python",
   "pygments_lexer": "ipython3",
   "version": "3.5.1"
  }
 },
 "nbformat": 4,
 "nbformat_minor": 0
}
