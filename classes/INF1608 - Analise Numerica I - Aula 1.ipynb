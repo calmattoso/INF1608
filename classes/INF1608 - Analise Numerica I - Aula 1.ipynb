{
 "cells": [
  {
   "cell_type": "markdown",
   "metadata": {},
   "source": [
    "## INF1608 - Análise Numérica - 2016.1\n",
    "## Departamento de Informática - PUC-Rio \n",
    "## Prof. Hélio Lopes - lopes@inf.puc-rio.br\n",
    "## http://www.inf.puc-rio.br/~lopes\n",
    "\n",
    "\n",
    "\n",
    "## 1 - O curso\n",
    "\n",
    "__Ementa__\n",
    "\n",
    "Apresentação e análise do erro dos métodos mais conhecidos para a solução computacional de problemas matemáticos de amplo espectro de aplicação. Teoria dos erros. Aproximação de funções. Integração numérica de EDOs. Métodos para sistemas de equações lineares. Zeros de funções.\n",
    "\n",
    "__Bibliografia__\n",
    "\n",
    "- Kiusalaas, Jaan; Numerical Methods in Engineering with Python, Cambridge, 2010.\n",
    "\n",
    "- Ruggiero, Márcia A. Gomes; Lopes, Vera Lucia da Rocha; Cálculo Numérico: Aspectos Teóricos e Computacionais; McGraw-Hill, 1988.\n",
    "\n",
    "- Chapra, Steven C.; Canale, Raymond P.; Métodos Numéricos para Engenharia; McGraw-Hill, 2008.\n",
    "\n",
    "- Sauer, Timothy; Numerical Analysis, 2nd Edition; Pearson, 2012.\n",
    "\n",
    "__Critério de avaliação__\n",
    "\n",
    "A nota será composta por: trabalhos de laboratório (50%), projeto de implementação (20%), prova teórica (30%).\n",
    "\n",
    "__Linguagem__\n",
    "\n",
    "O curso será apresentado em Python 2.7 através da plataforma Jupyter.\n",
    "\n",
    "Para instalar o Python e o Jupyter sugiro usar Anaconda: http://jupyter.readthedocs.org/en/latest/install.html\n"
   ]
  },
  {
   "cell_type": "markdown",
   "metadata": {},
   "source": [
    "## 2 - Primeiros passos com o Python\n",
    "\n",
    "Esse capítulo foi baseado no livro\n",
    "\n",
    "Kiusalaas, Jaan; Numerical Methods in Engineering with Python, Cambridge, 2010.\n",
    "\n",
    "\n",
    "__Variáveis__\n",
    "\n",
    "Na maioria das linguagens de programação, o nome da variável representa o valor de um certo tipo (caracter, inteiro, ponto flutuante, etc.) armazenado na memória. Nessas linguagens o valor pode ser alterado, mas não o tipo. Mas em Python as variáveis tem seus tipos definidos dinamicamente. A seguir mostraremos um exemplo onde as variáveis a e b estão sendo consideradas inicialmente como inteiras, mas que depois são transformadas em ponto flutuante. \n"
   ]
  },
  {
   "cell_type": "code",
   "execution_count": null,
   "metadata": {
    "collapsed": false
   },
   "outputs": [],
   "source": [
    "a = 3\n",
    "b = a % 2\n",
    "print a\n",
    "print b\n",
    "a *= 2.0\n",
    "b /= 3.0\n",
    "print a\n",
    "print b\n"
   ]
  },
  {
   "cell_type": "markdown",
   "metadata": {
    "collapsed": true
   },
   "source": [
    "__Cadeia de caracteres__\n",
    "\n",
    "Uma cadeia de caracteres (__string__) é uma sequência de caracteres limitados por uma ou duas aspas. Duas ou mais cadeias podem ser concatenadas através do operador (+).\n"
   ]
  },
  {
   "cell_type": "code",
   "execution_count": null,
   "metadata": {
    "collapsed": false
   },
   "outputs": [],
   "source": [
    "string1 = 'Pontifícia Universidade Católica'\n",
    "string2 = 'do Rio de Janeiro'\n",
    "print string1 + ' ' + string2 # Concatenation"
   ]
  },
  {
   "cell_type": "markdown",
   "metadata": {},
   "source": [
    "Para acessar uma subsequencia de uma cadeia de caracteres utiliza-se o operator (:). "
   ]
  },
  {
   "cell_type": "code",
   "execution_count": null,
   "metadata": {
    "collapsed": false
   },
   "outputs": [],
   "source": [
    "string3 = string2[3:6]\n",
    "print string3"
   ]
  },
  {
   "cell_type": "markdown",
   "metadata": {},
   "source": [
    "Uma cadeia de caracteres é um objeto imutável, isto é, seus caracteres não podem ser modificados através de um atribuição individual e também não é possível modificar o seu tamanho. Qualquer tentativa de violação dessas regras vai gerar em TypeError."
   ]
  },
  {
   "cell_type": "code",
   "execution_count": null,
   "metadata": {
    "collapsed": false
   },
   "outputs": [],
   "source": [
    "string3[1] = 'o'"
   ]
  },
  {
   "cell_type": "markdown",
   "metadata": {},
   "source": [
    "O tamanho da cadeia pode ser acessado utilizando a função len()."
   ]
  },
  {
   "cell_type": "code",
   "execution_count": null,
   "metadata": {
    "collapsed": false
   },
   "outputs": [],
   "source": [
    "len(string3)"
   ]
  },
  {
   "cell_type": "markdown",
   "metadata": {},
   "source": [
    "__Tuplas__\n",
    "\n",
    "Uma tupla é uma sequência de objetos arbitrários separados por vírgulas e limitados por parênteses. Se a tupla contem somente um objeto, então é necessário uma vírgula no final. As tuplas suportam as mesmas operações que as cadeias de caracteres, e elas também são imutáveis."
   ]
  },
  {
   "cell_type": "code",
   "execution_count": null,
   "metadata": {
    "collapsed": false
   },
   "outputs": [],
   "source": [
    "rec = ('Lopes','Helio',(4,2,1968)) # Isto é uma tupla\n",
    "lastName,firstName,birthdate = rec # Desmembrando a tupla\n",
    "print firstName\n",
    "\n",
    "birthYear = birthdate[2]\n",
    "birthMonth = birthdate[1]\n",
    "birthDay = birthdate[0]\n",
    "print str(birthDay) + '/' + str(birthMonth) + '/' + str(birthYear)\n",
    "\n",
    "name = rec[1] + ' ' + rec[0]\n",
    "print name\n",
    "\n",
    "print rec[0:2]\n"
   ]
  },
  {
   "cell_type": "markdown",
   "metadata": {},
   "source": [
    "No código acima a função str() converteu o número inteiro para uma string."
   ]
  },
  {
   "cell_type": "markdown",
   "metadata": {},
   "source": [
    "__Listas__\n",
    "\n",
    "Uma lista é similar a uma tupla, porém ela é mutavel, e com isso: seus elementos e o seu tamanho podem ser alterados. Uma lista é limitada por colchetes. Segue um código com exemplos de como se manipula uma lista em Python:"
   ]
  },
  {
   "cell_type": "code",
   "execution_count": null,
   "metadata": {
    "collapsed": false
   },
   "outputs": [],
   "source": [
    "a = [1.0, 2.0, 3.0] # Cria uma lista\n",
    "print a\n",
    "\n",
    "a.append(4.0) # Insere no final o número 4.0 na lista\n",
    "print a\n",
    "\n",
    "a.insert(0,0.0) # Insere 0.0 na posição 0 da lista\n",
    "print a\n",
    "print len(a) # Determina o tamanho da lista\n",
    "\n",
    "a[2:4] = [1.0, 1.0, 1.0] # Modifica os elementos indicados\n",
    "print a"
   ]
  },
  {
   "cell_type": "markdown",
   "metadata": {},
   "source": [
    "Como a é um objeto mutável, então o comando de atribuição b = a não cria um novo objeto b, pois simplesmente esse comando cria uma nova referência ao objeto a. Portanto, qualquer modificação feita na variável b vai afetar a variável a. Para criar uma cópia da lista a, use por exemplo o comando c = a[:]:"
   ]
  },
  {
   "cell_type": "code",
   "execution_count": null,
   "metadata": {
    "collapsed": false
   },
   "outputs": [],
   "source": [
    "a = [1.0, 2.0, 3.0]\n",
    "print a\n",
    "b = a # ’b’ é uma referência para ’a’\n",
    "b[0] = 5.0 # Altera ’b’\n",
    "print a\n",
    "\n",
    "c = a[:] # ’c’ é uma cópia independente de ’a’\n",
    "c[0] = 1.0 # Altera ’c’\n",
    "print a\n",
    "print c"
   ]
  },
  {
   "cell_type": "markdown",
   "metadata": {},
   "source": [
    "As matrizes podem ser representadas usando listas aninhadas, ou seja uma lista de linhas onde cada linha é também uma lista. "
   ]
  },
  {
   "cell_type": "code",
   "execution_count": null,
   "metadata": {
    "collapsed": false
   },
   "outputs": [],
   "source": [
    "a = [[1, 2, 3], \\\n",
    "     [4, 5, 6], \\\n",
    "     [7, 8, 9]]\n",
    "\n",
    "print a[1] # Imprime a segunda linha (element 1)\n",
    "print a[1][2] # Imprime o terceiro elemento da segunda linha\n"
   ]
  },
  {
   "cell_type": "markdown",
   "metadata": {},
   "source": [
    "O backslash '\\' no Python’s representa um caracter de continuação. Lembre que nas sequências em Python começam pelo índice zero, portanto a[0] representa a primeira linha, a[1] a segunda linha, e assim por diante. Com raríssimas exceções representaremos uma matriz nessa forma, pois o mais adequado é usar o objeto array do módulo NumPy.\n",
    "O objeto array e o próprio módulo serão apresentados posteriormente."
   ]
  },
  {
   "cell_type": "markdown",
   "metadata": {},
   "source": [
    "__Operações aritméticas__\n",
    "\n",
    "O Python suporta as seguintes operações aritméticas:\n",
    "\n",
    "| Símbolo  | Operação   |\n",
    "|:-:|:-:|\n",
    "| +  | Adição    |\n",
    "| −  | Subtração |\n",
    "| ∗  |Multiplicação |\n",
    "| /  |Divisão |\n",
    "| ∗∗ | Exponenciação |\n",
    "| % | Divisão Modular |\n",
    "\n"
   ]
  },
  {
   "cell_type": "code",
   "execution_count": null,
   "metadata": {
    "collapsed": false
   },
   "outputs": [],
   "source": [
    "print 2.0**(1/3.0)\n",
    "print 3/2\n",
    "print 3/2.0\n",
    "print 5%3"
   ]
  },
  {
   "cell_type": "markdown",
   "metadata": {
    "collapsed": true
   },
   "source": [
    "__Operadores de comparação__\n",
    "\n",
    "Os operadores de comparação relacionais retornam 1 se for verdadeiro ou 0 quase contrário. Esses operadores são:\n",
    "\n",
    "| Símbolo  | Operadores relacionais   |\n",
    "|:-:|:-:|\n",
    "| < | menor que |\n",
    "| > | maior que |\n",
    "| <= | menor que ou igual a|\n",
    "| >= | menor que ou igual a|\n",
    "| == | igual a |\n",
    "| != | diferente a |\n",
    "\n",
    "Números de diferentes tipos (inteiros, ponto flutuante, etc.) serão convertidos a um tipo comum antes da comparação ser feita. Por outro lado, objetos de diferente tipos serão considerados diferentes. Seguem alguns exemplos:"
   ]
  },
  {
   "cell_type": "code",
   "execution_count": null,
   "metadata": {
    "collapsed": false
   },
   "outputs": [],
   "source": [
    "a = 2 # Inteiro\n",
    "b = 1.99 # Ponto flutuante\n",
    "c = '2' # String\n",
    "print a > b\n",
    "print a == c\n",
    "print (a > b) and (a != c)\n",
    "print (a > b) or (a == b)"
   ]
  },
  {
   "cell_type": "markdown",
   "metadata": {},
   "source": [
    "__Condicionais__\n",
    "\n",
    "O comando condicional if é definido da seguinte forma:\n",
    "\n",
    "__if__ condição:\n",
    "    \n",
    "    bloco\n",
    "    \n",
    "Ele executa o bloco de comandos (que precisam estar indentados) se a condição é verdadeira.\n",
    "\n",
    "Se a condição é falsa, então o bloco é pulado. \n",
    "\n",
    "O condicional if pode ser aninhado por um número arbitrário de outros condicionais, através do comando elif (abreviatura para \"else if\"):\n",
    "\n",
    "__elif__ condition:\n",
    "    \n",
    "    bloco\n",
    "\n",
    "O comando else tem a seguinte construção:\n",
    "\n",
    "__else:__\n",
    "    \n",
    "    bloco"
   ]
  },
  {
   "cell_type": "code",
   "execution_count": null,
   "metadata": {
    "collapsed": false
   },
   "outputs": [],
   "source": [
    "def sign_of_a(a):\n",
    "    if a < 0.0:\n",
    "        sign = 'negative'\n",
    "    elif a > 0.0:\n",
    "        sign = 'positive'\n",
    "    else:\n",
    "        sign = 'zero'\n",
    "    return sign\n",
    "\n",
    "a = 1.5\n",
    "print 'a is ' + sign_of_a(a)\n"
   ]
  },
  {
   "cell_type": "markdown",
   "metadata": {
    "collapsed": true
   },
   "source": [
    "__Laços__\n",
    "\n",
    "Para os laços, temos os seguintes comandos:\n",
    "\n",
    "__while__ condição:\n",
    "\n",
    "    bloco\n",
    "    \n"
   ]
  },
  {
   "cell_type": "code",
   "execution_count": null,
   "metadata": {
    "collapsed": false
   },
   "outputs": [],
   "source": [
    "nMax = 5\n",
    "n = 1\n",
    "a = [] # Create empty list\n",
    "while n < nMax:\n",
    "    a.append(1.0/n) # Append element to list\n",
    "    n = n + 1\n",
    "print a\n"
   ]
  },
  {
   "cell_type": "markdown",
   "metadata": {},
   "source": [
    "O comando for requer um indexador e uma sequência (usualmente uma lista) sob o qual o indexador varia. \n",
    "\n",
    "__for__ indexador __in__ sequência:\n",
    "\n",
    "    block"
   ]
  },
  {
   "cell_type": "code",
   "execution_count": null,
   "metadata": {
    "collapsed": false
   },
   "outputs": [],
   "source": [
    "nMax = 5\n",
    "a = []\n",
    "print range(1,nMax)\n",
    "for n in range(1,nMax):\n",
    "    a.append(1.0/n)\n",
    "print a"
   ]
  },
  {
   "cell_type": "markdown",
   "metadata": {},
   "source": [
    "Os comandos __while__ e __for__ podem ser parados com o uso do comando __break__. Existe também o comando _else_ para os laços."
   ]
  },
  {
   "cell_type": "code",
   "execution_count": null,
   "metadata": {
    "collapsed": false
   },
   "outputs": [],
   "source": [
    "list = ['Huguinho', 'Zezinho', 'Luisinho']\n",
    "name = raw_input('Digite um nome: ') # Python input prompt\n",
    "for i in range(len(list)):\n",
    "    if list[i] == name:\n",
    "        print name,'tem indice',i + 1,'na lista.'\n",
    "        break\n",
    "else:\n",
    "    print name,'nao esta na lista!'"
   ]
  },
  {
   "cell_type": "markdown",
   "metadata": {},
   "source": [
    "O comando __continue__ permite pularmos uma parte da execução de um bloco num laço.\n",
    "Ao executar um __continue__, o interpretador irá retornar imediatamente para o início do laço sem executar os comandos abaixo do __continue__."
   ]
  },
  {
   "cell_type": "code",
   "execution_count": 1,
   "metadata": {
    "collapsed": false
   },
   "outputs": [
    {
     "name": "stdout",
     "output_type": "stream",
     "text": [
      "[7, 14, 21, 28, 35, 42, 49, 56, 63, 70, 77, 84, 91, 98]\n"
     ]
    }
   ],
   "source": [
    "x = [] # Create an empty list\n",
    "for i in range(1,100):\n",
    "    if i%7!= 0: \n",
    "        continue # If not divisible by 7, skip rest of loop\n",
    "    x.append(i) # Append i to the list\n",
    "print x"
   ]
  },
  {
   "cell_type": "markdown",
   "metadata": {},
   "source": [
    "__Conversão entre tipos__\n",
    "\n",
    "Se uma operação aritmética envolve números de diferente tipos, então os números são automaticamente convertidos para um tipo comum antes da operação ser executada.\n",
    "\n",
    "Conversão entre tipos podem também ser efetuadas através dos seguitnes comandos:\n",
    "\n",
    "| comando  | operação   |\n",
    "|:-:|:-:|\n",
    "| int(a) |Converte a para um integer |\n",
    "| long(a) | Converte a para um long integer |\n",
    "| float(a)| Converte a para um  floating point |\n",
    "| complex(a) | Converte para um complex a + 0j |\n",
    "| complex(a,b) | Converte para um complex a +bj |\n",
    "\n",
    "Essas funções também funcionam para converter strings para um número, se o conteúdo da string for um número válido. A conversão de um float para um integer é feito usando um truncamento, e não por um arredondamento. "
   ]
  },
  {
   "cell_type": "code",
   "execution_count": null,
   "metadata": {
    "collapsed": false
   },
   "outputs": [],
   "source": [
    "a = 5\n",
    "b = -3.6\n",
    "d = '4.0'\n",
    "\n",
    "print a + b\n",
    "print int(b)\n",
    "print complex(a,b)\n",
    "print float(d)\n",
    "print int(d)"
   ]
  },
  {
   "cell_type": "markdown",
   "metadata": {},
   "source": [
    "__Funções matemáticas básicas__\n",
    "\n",
    "O Python, em sua definição básica, disponibiliza algumas funções matemáticas básicas, são elas:\n",
    "\n",
    "\n",
    "| comando  | função   |\n",
    "|:-:|:-:|\n",
    "| abs(a) | Valor absoluto de a |\n",
    "| max(sequencia) | retorna o maior elemento da sequencia |\n",
    "| min(sequencia) | retorna o menor elemento da sequencia |\n",
    "| round(a,n) | Retorna o arredondamento de a na n-ésima casa decimal |\n",
    "| cmp(a,b) | Retorna -1 se a < b, 0 se a == b, ou 1 se a > b |\n",
    "\n",
    "A grande maioria das funções matemáticas estão disponíveis no módulo __math__, que será apresentado mais a frente."
   ]
  },
  {
   "cell_type": "markdown",
   "metadata": {},
   "source": [
    "__Entrada pelo teclado__\n",
    "\n",
    "A função intrínsica que faz a entrada pelo teclado é __raw input(prompt)__.\n",
    "Ela mostra o __prompt__ e então lê uma linha que é convertida para uma string. \n",
    "Para converter a string para um valor numérico, use a função __eval(string)__.\n"
   ]
  },
  {
   "cell_type": "code",
   "execution_count": 2,
   "metadata": {
    "collapsed": false
   },
   "outputs": [
    {
     "name": "stdout",
     "output_type": "stream",
     "text": [
      "Input a: 3\n",
      "3 <type 'str'>\n",
      "3 <type 'int'>\n"
     ]
    }
   ],
   "source": [
    "a = raw_input('Input a: ')\n",
    "print a, type(a) # Print a and its type\n",
    "b = eval(a)\n",
    "print b,type(b) # Print b and its type"
   ]
  },
  {
   "cell_type": "markdown",
   "metadata": {},
   "source": [
    "__Imprimindo na tela__\n",
    "\n",
    "A saída é feita através do comando\n",
    "\n",
    "__print__ objeto1, objeto2, . . .\n",
    "\n",
    "que converte objeto1, objeto2, e assim por diante para strings e as imprime na mesma linha,\n",
    "separados por espaços. \n",
    "\n",
    "O caracter newline '\\n' pode ser usado para forçar uma nova linha. \n",
    "\n"
   ]
  },
  {
   "cell_type": "code",
   "execution_count": null,
   "metadata": {
    "collapsed": false
   },
   "outputs": [],
   "source": [
    "a = 1234.56789\n",
    "b = [2, 4, 6, 8]\n",
    "print a,b\n",
    "print 'a =',a, '\\nb =',b"
   ]
  },
  {
   "cell_type": "markdown",
   "metadata": {},
   "source": [
    "O operador (%) pode ser usado para formato a tupla da seguinte forma:\n",
    "\n",
    "'%format1 %format2 · · ·' % tupla\n",
    "\n",
    "onde format1, format2 · · · são as especificações de formato para cada objeto na tupla.\n",
    "\n",
    "As especificações dos formatos que são tipicamente usados são:\n",
    "\n",
    "\n",
    "| especificação  |  formato  |\n",
    "|:-:|:-:|\n",
    "| _w_ d | Integer |\n",
    "| _w_._d_ f |Floating point notation |\n",
    "| _w_._d_ e | Exponential notation |\n",
    "\n",
    "onde _w_ é o tamanho do campo e _d_ é o número de dígitos depois do ponto decimal.\n",
    "\n",
    "A saída é por default justificada a direita no campo específico e preenchidos com espaços em brancos."
   ]
  },
  {
   "cell_type": "code",
   "execution_count": null,
   "metadata": {
    "collapsed": false
   },
   "outputs": [],
   "source": [
    "a = 1234.56789\n",
    "n = 9876\n",
    "print '%7.2f' % a\n",
    "print 'n = %6d' % n # Pad with spaces\n",
    "print 'n = %06d' % n # Pad with zeroes\n",
    "print '%12.4e %6d' % (a,n)"
   ]
  },
  {
   "cell_type": "markdown",
   "metadata": {
    "collapsed": true
   },
   "source": [
    "__Funções__\n",
    "\n",
    "A estrutura de uma função em Python function é a seguinte:\n",
    "\n",
    "__def__ func_name(param1, param2,. . .):\n",
    "\n",
    "    statements\n",
    "    return return_values\n",
    "\n",
    "onde param1, param2,. . . são os parâmetros da função, que podem ser qualquer objeto Python (inclusive uma outra função). \n",
    "\n",
    "Podemos atribuir valores default para os parâmetros, e nesse caso a passagem desse parâmetro é opcional.\n",
    "\n",
    "Se o comando de __return__ for omitido na função, ela retornará um objeto nulo.\n"
   ]
  },
  {
   "cell_type": "code",
   "execution_count": null,
   "metadata": {
    "collapsed": false
   },
   "outputs": [],
   "source": [
    "from math import atan\n",
    "def finite_diff(f,x,h=0.0001): # h has a default value\n",
    "    df =(f(x+h) - f(x-h))/(2.0*h)\n",
    "    ddf =(f(x+h) - 2.0*f(x) + f(x-h))/h**2\n",
    "    return df,ddf\n",
    "\n",
    "x = 0.5\n",
    "df,ddf = finite_diff(atan,x) # Uses default value of h\n",
    "print 'First derivative =',df\n",
    "print 'Second derivative =',ddf"
   ]
  },
  {
   "cell_type": "markdown",
   "metadata": {},
   "source": [
    "O número de parâmetros de entrada numa função pode ser arbitrário.\n",
    "Por exemplo, na definição da função \n",
    "\n",
    "def func(x1,x2,*x3)\n",
    "\n",
    "x1 e x2 são os parâmetros usuais, porém x3 é uma tupla de tamanho arbitrário que armazena todos os outros parâmetros.\n",
    "\n",
    "Ao chamar essa função na forma:\n",
    "\n",
    "func(a,b,c,d,e)\n",
    "\n",
    "irá resultar na seguinte correspondência entre os parâmetros:\n",
    "\n",
    "a <-> x1, \n",
    "b <-> x2, \n",
    "(c,d,e) <-> x3\n",
    "\n",
    "Quando um objeto mutável é passado por parâmetro para uma função que o modifica, então o objeto será modificado no programa que o chamou.\n"
   ]
  },
  {
   "cell_type": "code",
   "execution_count": 3,
   "metadata": {
    "collapsed": false
   },
   "outputs": [
    {
     "name": "stdout",
     "output_type": "stream",
     "text": [
      "[1, 4, 9, 16]\n"
     ]
    }
   ],
   "source": [
    "def squares(a):\n",
    "    for i in range(len(a)):\n",
    "        a[i] = a[i]**2\n",
    "        \n",
    "a = [1,2,3,4]\n",
    "squares(a)\n",
    "print a"
   ]
  },
  {
   "cell_type": "markdown",
   "metadata": {},
   "source": [
    "__Comandos Lambda__\n",
    "\n",
    "\n",
    "Se uma função tem a forma de uma expressão, então ela pode ser definida como um comando lambda:\n",
    "\n",
    "func name = __lambda__ param1, param2,...: expression\n"
   ]
  },
  {
   "cell_type": "code",
   "execution_count": 4,
   "metadata": {
    "collapsed": false
   },
   "outputs": [
    {
     "name": "stdout",
     "output_type": "stream",
     "text": [
      "25\n"
     ]
    }
   ],
   "source": [
    "c = lambda x,y : x**2 + y**2\n",
    "print c(3,4)"
   ]
  },
  {
   "cell_type": "markdown",
   "metadata": {},
   "source": [
    "__Módulo math__\n",
    "\n",
    "A maioria das funções matemáticas estão disponíveis no módulo __math__, que deve ser carregado explicitamente.\n",
    "\n",
    "O comando\n",
    "\n",
    "__from__ math __import__ *\n",
    "\n",
    "carrega todas as definições de funções do módulo __math__. Isso não é tão aconselhável não só pleo uso excessivo de memória, mas também pode gerar conflitos com funções de outros módulos.\n",
    "\n",
    "Uma maneira mais adequada seria usar o comando:\n",
    "\n",
    "__from__ math __import__ func1, func2, . . .\n"
   ]
  },
  {
   "cell_type": "code",
   "execution_count": null,
   "metadata": {
    "collapsed": false
   },
   "outputs": [],
   "source": [
    "from math import log,sin\n",
    "print log(sin(0.5))"
   ]
  },
  {
   "cell_type": "markdown",
   "metadata": {},
   "source": [
    "Uma terceira opção, que é bastante usada, é deixar o módulo disponível através do comando:\n",
    "\n",
    "__import__ math\n",
    "\n",
    "Assim as funções do módulo seriam chamadas colocando o prefixo math:"
   ]
  },
  {
   "cell_type": "code",
   "execution_count": null,
   "metadata": {
    "collapsed": false
   },
   "outputs": [],
   "source": [
    "import math\n",
    "print math.log(math.sin(0.5))"
   ]
  },
  {
   "cell_type": "code",
   "execution_count": null,
   "metadata": {
    "collapsed": false
   },
   "outputs": [],
   "source": [
    "dir(math) # imprime o conteúdo do módulo math"
   ]
  },
  {
   "cell_type": "markdown",
   "metadata": {},
   "source": [
    "Exemplo de uso da função __trunc__ para obter o truncamento de $\\sqrt{2}$ na 2a casa decimal."
   ]
  },
  {
   "cell_type": "code",
   "execution_count": null,
   "metadata": {
    "collapsed": false
   },
   "outputs": [],
   "source": [
    "import math\n",
    "# Magic function to make matplotlib inline; other style specs must come AFTER\n",
    "math.trunc(100.0*math.sqrt(2.0))/100.0"
   ]
  },
  {
   "cell_type": "markdown",
   "metadata": {},
   "source": [
    "__Gerando gráficos com o módulo matplotlib__\n",
    "\n",
    "O módulo __matplotlib__ permite desenharmos gráficos com muita facilidade. \n",
    "\n",
    "Uma descrição detalhada e vários exemplos de uso podem ser encontrados no site:\n",
    "\n",
    "http://matplotlib.org/"
   ]
  },
  {
   "cell_type": "code",
   "execution_count": 1,
   "metadata": {
    "collapsed": false
   },
   "outputs": [
    {
     "data": {
      "text/plain": [
       "<matplotlib.text.Text at 0x10c9bc210>"
      ]
     },
     "execution_count": 1,
     "metadata": {},
     "output_type": "execute_result"
    },
    {
     "data": {
      "image/png": "[encoded data removed]",
      "text/plain": [
       "<matplotlib.figure.Figure at 0x109c90950>"
      ]
     },
     "metadata": {},
     "output_type": "display_data"
    }
   ],
   "source": [
    "import numpy as np\n",
    "import matplotlib \n",
    "import matplotlib.pylab as plt\n",
    "\n",
    "%matplotlib inline\n",
    "\n",
    "# Generate data to plot\n",
    "x = np.linspace(0, 2 * np.pi, 200)\n",
    "y = np.exp(np.sin(np.sin(x)))\n",
    "\n",
    "# Make plot\n",
    "plt.plot(x, y)\n",
    "plt.xlim((0, 2 * np.pi))\n",
    "plt.xlabel(r'$x$')\n",
    "plt.ylabel(r'$\\mathrm{e}^{\\sin(\\sin{x})}$')\n"
   ]
  },
  {
   "cell_type": "code",
   "execution_count": null,
   "metadata": {
    "collapsed": false
   },
   "outputs": [],
   "source": [
    "# Imports from __future__ in case we're running Python 2\n",
    "from __future__ import division, print_function\n",
    "from __future__ import absolute_import, unicode_literals\n",
    "\n",
    "# Our numerical workhorses\n",
    "import numpy as np\n",
    "import scipy.integrate\n",
    "\n",
    "# Import pyplot for plotting\n",
    "import matplotlib.pyplot as plt\n",
    "\n",
    "# Seaborn, useful for graphics\n",
    "import seaborn as sns\n",
    "\n",
    "# Import Bokeh modules for interactive plotting\n",
    "import bokeh.io\n",
    "import bokeh.mpl\n",
    "import bokeh.plotting\n",
    "\n",
    "# Magic function to make matplotlib inline; other style specs must come AFTER\n",
    "%matplotlib inline\n",
    "\n",
    "# This enables SVG graphics inline.  There is a bug, so uncomment if it works.\n",
    "# %config InlineBackend.figure_formats = {'svg',}\n",
    "\n",
    "# This enables high resolution PNGs. SVG is preferred, but has problems\n",
    "# rendering vertical and horizontal lines\n",
    "%config InlineBackend.figure_formats = {'png', 'retina'}\n",
    "\n",
    "# JB's favorite Seaborn settings for notebooks\n",
    "rc = {'lines.linewidth': 2, \n",
    "      'axes.labelsize': 18, \n",
    "      'axes.titlesize': 18, \n",
    "      'axes.facecolor': 'DFDFE5'}\n",
    "sns.set_context('notebook', rc=rc)\n",
    "sns.set_style('darkgrid', rc=rc)\n",
    "\n",
    "# Set up Bokeh for inline viewing\n",
    "bokeh.io.output_notebook()\n",
    "\n",
    "# Generate data to plot\n",
    "x = np.linspace(0, 2 * np.pi, 200)\n",
    "y = np.exp(np.sin(np.sin(x)))\n",
    "\n",
    "# Make plot\n",
    "plt.plot(x, y)\n",
    "plt.xlim((0, 2 * np.pi))\n",
    "plt.xlabel('x')\n",
    "plt.ylabel('exp(sin(x))')\n",
    "\n",
    "# Make it interactive with Bokeh\n",
    "bokeh.plotting.show(bokeh.mpl.to_bokeh())\n"
   ]
  },
  {
   "cell_type": "code",
   "execution_count": null,
   "metadata": {
    "collapsed": false
   },
   "outputs": [],
   "source": [
    "import numpy as np\n",
    "import matplotlib.mlab as mlab\n",
    "import matplotlib.pyplot as plt\n",
    "\n",
    "\n",
    "# example data\n",
    "mu = 100  # mean of distribution\n",
    "sigma = 15  # standard deviation of distribution\n",
    "x = mu + sigma * np.random.randn(10000)\n",
    "\n",
    "num_bins = 50\n",
    "# the histogram of the data\n",
    "n, bins, patches = plt.hist(x, num_bins, normed=1, facecolor='green', alpha=0.5)\n",
    "# add a 'best fit' line\n",
    "y = mlab.normpdf(bins, mu, sigma)\n",
    "plt.plot(bins, y, 'r--')\n",
    "plt.xlabel('Smarts')\n",
    "plt.ylabel('Probability')\n",
    "plt.title(r'Histogram of IQ: $\\mu=100$, $\\sigma=15$')\n",
    "\n",
    "# Tweak spacing to prevent clipping of ylabel\n",
    "plt.subplots_adjust(left=0.15)\n",
    "plt.show()\n"
   ]
  },
  {
   "cell_type": "code",
   "execution_count": null,
   "metadata": {
    "collapsed": true
   },
   "outputs": [],
   "source": []
  }
 ],
 "metadata": {
  "kernelspec": {
   "display_name": "Python 2",
   "language": "python",
   "name": "python2"
  },
  "language_info": {
   "codemirror_mode": {
    "name": "ipython",
    "version": 2
   },
   "file_extension": ".py",
   "mimetype": "text/x-python",
   "name": "python",
   "nbconvert_exporter": "python",
   "pygments_lexer": "ipython2",
   "version": "2.7.11"
  }
 },
 "nbformat": 4,
 "nbformat_minor": 0
}
