{
 "cells": [
  {
   "cell_type": "markdown",
   "metadata": {},
   "source": [
    "## INF1608 - Análise Numérica - 2016.1\n",
    "## Departamento de Informática - PUC-Rio \n",
    "## Prof. Hélio Lopes - lopes@inf.puc-rio.br\n",
    "## http://www.inf.puc-rio.br/~lopes\n",
    "\n",
    "$$$$\n",
    "\n",
    "## Aluno: Carlos Mattoso\n",
    "## Matrícula: 1210553\n",
    "\n",
    "\n",
    "## Lista 1\n",
    "\n",
    "1) Modifique a implementação da decomposição LU para incluir a permutação de linhas, obtendo a decomposição PA=LU.\n",
    "\n",
    "2) Implemente a função LUsolve que resolve o sistema Ax=b, tendo em mão a deomposição PA=LU.\n",
    "\n",
    "3) Utilize as implementações dos items 1 e 2 da lista para resolver o sistema:\n",
    "\n",
    "A = np.matrix([[1.,0.,0.,1.],[-1.,1.,0.,1.],[-1.,-1.,1.,1.],[-1.,-1.,-1.,1.]])\n",
    "e\n",
    "b = np.array([1.,1.,2.,0.])\n",
    "\n",
    "4) Faça uma função que verique se uma matriz A de tamanho nxn é estritamente diagonal dominante:\n",
    "        Definição: Uma matriz A (nxn) é estritamente diagonal dominante se para toda linha i vale:\n",
    "                   $$|A_{i,i}| > \\sum_{i=1, i\\ne j}^n |A_{i,j}|$$\n",
    "                   \n",
    "5) Implemente o método de Jacobi para a solução de um sistema de equações lineares. Defina um critério de parada para o seu método, e explique-o. \n",
    "        https://pt.wikipedia.org/wiki/M%C3%A9todo_de_Jacobi\n",
    "\n",
    "6) Implemente o método de Gauss-Seidel para a solução de um sistema de equações lineares. Defina um critério de parada para o seu método, e explique-o.\n",
    "        https://pt.wikipedia.org/wiki/M%C3%A9todo_de_Gauss-Seidel\n",
    "\n",
    "7) Teste muito bem todos esses algoritmos!"
   ]
  },
  {
   "cell_type": "markdown",
   "metadata": {
    "collapsed": true
   },
   "source": [
    "## Resolução"
   ]
  },
  {
   "cell_type": "code",
   "execution_count": 1,
   "metadata": {
    "collapsed": false
   },
   "outputs": [],
   "source": [
    "import numpy as np"
   ]
  },
  {
   "cell_type": "markdown",
   "metadata": {},
   "source": [
    "### 1\n",
    "Apenas fiz uma modificação no código disponibilizado no material do curso em que, antes de se executar o procedimento de decomposição LU, produz-se um vetor que equivale a matriz de pivoteamento $P$. Para isto, percorre-se cada coluna $j$ e determina-se em que linha $i$, $i \\geqslant j$, encontra-se o maior valor da coluna corrente; caso este valor absoluto não esteja na diagonal, troca-se a linha de índice igual ao da coluna corrente com a linha em que se encontra o valor. Este vetor indica qual das linhas da matriz A, após o pivoteamento, deve ser a primeira, qual deve ser a segunda e assim em diante."
   ]
  },
  {
   "cell_type": "code",
   "execution_count": 2,
   "metadata": {
    "collapsed": false
   },
   "outputs": [
    {
     "name": "stdout",
     "output_type": "stream",
     "text": [
      "A\n",
      "[[ 1.  3.  5.]\n",
      " [ 2.  4.  7.]\n",
      " [ 1.  1.  0.]]\n",
      "[1, 0, 2]\n",
      "[[ 2.   4.   7. ]\n",
      " [ 0.5  1.   1.5]\n",
      " [ 0.5 -1.  -2. ]]\n",
      "Erro da A: 0.000000\n",
      "\n",
      "B\n",
      "[0, 1]\n",
      "[[ 3.          1.        ]\n",
      " [ 0.33333333  4.66666667]]\n",
      "Erro da B: 0.000000\n",
      "\n",
      "C\n",
      "[2, 3, 1, 0]\n",
      "[[ 8.          7.          9.          5.        ]\n",
      " [ 0.75        1.75        2.25        4.25      ]\n",
      " [ 0.5        -0.28571429 -0.85714286 -0.28571429]\n",
      " [ 0.25       -0.42857143  0.33333333  0.66666667]]\n",
      "Erro da C: 0.000000\n"
     ]
    }
   ],
   "source": [
    "# Produz o vetor de pivoteamento P\n",
    "def makePivot(A):\n",
    "    n = len(A)\n",
    "    \n",
    "    # Produz o vetor de pivoteamento `P`\n",
    "    # Este vetor indica em que linha da estrutura `A` está de fato\n",
    "    # armazenada determinada linha `i`, já que trocas não são feitas\n",
    "    # na matriz `A`, apenas \"indicadas, em `P`\n",
    "    P = [i for i in range(n)]\n",
    "    for j in range(n):\n",
    "        max_id = max(range(j, n), key=lambda i: abs(A[P[i], j]))\n",
    "        if j != max_id:\n",
    "            P[j], P[max_id] = P[max_id], P[j]\n",
    "    return P\n",
    "    \n",
    "def LUdecomp(A):\n",
    "    LU = np.copy(A)\n",
    "    n = len(A)\n",
    "\n",
    "    P = makePivot(A)\n",
    "    # Trocam-se as linhas de LU segundo A\n",
    "    for i in range(n):\n",
    "        LU[i,:] = A[P[i],:]\n",
    "    \n",
    "    for j in range(n-1):\n",
    "        for i in range(j+1,n):\n",
    "            LU[i][j] = LU[i][j]/LU[j][j]\n",
    "            for k in range(j+1,n):\n",
    "                LU[i][k] = LU[i][k] - LU[i][j]*LU[j][k]\n",
    "    return P, LU\n",
    "\n",
    "# Resultado esperado:\n",
    "# [[2.0,  4.0,  7.0],\n",
    "#  [0.5,  1.0,  1.5],\n",
    "#  [0.5, -1.0, -2.0]]\n",
    "print(\"A\")\n",
    "A = np.matrix([[1., 3., 5.], \n",
    "               [2., 4., 7.], \n",
    "               [1., 1., 0.]])\n",
    "print(A)\n",
    "\n",
    "exp_LU = np.matrix([[2.0,  4.0,  7.0],\n",
    "                    [0.5,  1.0,  1.5],\n",
    "                    [0.5, -1.0, -2.0]])\n",
    "P, LU = LUdecomp(A)\n",
    "print(P)\n",
    "print(LU)\n",
    "print(\"Erro da A: %f\" % np.linalg.norm(LU - exp_LU))\n",
    "\n",
    "# Matriz dada em sala para caso sem pivoteamento. Resultado esperado:\n",
    "# [[ 3.          1.        ]\n",
    "# [ 0.33333333  4.66666667]]\n",
    "print(\"\\nB\")\n",
    "B = np.matrix([[3.0,1.0],\n",
    "               [1.0,5.0]])\n",
    "P, LU = LUdecomp(B)\n",
    "print(P)\n",
    "print(LU)\n",
    "\n",
    "exp_LU = np.matrix([[3. , 1.],\n",
    "                    [0.33333333, 4.66666667]])\n",
    "print(\"Erro da B: %f\" % np.linalg.norm(LU - exp_LU))\n",
    "\n",
    "# Matriz retirada de: http://www4.ncsu.edu/~kksivara/ma505/handouts/lu-pivot.pdf\n",
    "print(\"\\nC\")\n",
    "C = np.matrix([[2, 1, 1, 0],\n",
    "               [4, 3, 3, 1],\n",
    "               [8, 7, 9, 5],\n",
    "               [6, 7, 9, 8]], float)\n",
    "P, LU = LUdecomp(C)\n",
    "print(P)\n",
    "print(LU)\n",
    "\n",
    "exp_LU = np.matrix([[8., 7., 9.,5.],\n",
    "                    [3./4., 7./4., 9./4., 17./4.],\n",
    "                    [0.5, -2./7., -6./7., -2./7.],\n",
    "                    [0.25, -3./7., 1./3., 2./3.]], float)\n",
    "print(\"Erro da C: %f\" % np.linalg.norm(LU - exp_LU))"
   ]
  },
  {
   "cell_type": "markdown",
   "metadata": {},
   "source": [
    "## 2\n",
    "\n",
    "Utilizam-se os métodos de `LUforwardsub` e `LUbackwardsub` disponibilizados em aula. Como agora temos um vetor de pivotamento $P$, é necessário primeiramente aplicá-lo a $b$, observe:\n",
    "$$Ax = b$$\n",
    "$$PAx = Pb$$\n",
    "$$LUx = Pb$$\n",
    "Tendo-se calculado $Pb$, pode-se aplicar o método `LUsolve` disponibilizado no material. Modifico este método para fazer o \"cálculo\" de $Pb$ dentro dele:"
   ]
  },
  {
   "cell_type": "code",
   "execution_count": 3,
   "metadata": {
    "collapsed": false
   },
   "outputs": [],
   "source": [
    "def LUforwardsub (L,b):\n",
    "    n = len(L)\n",
    "    y = np.zeros(n)\n",
    "    y[0] = b[0]\n",
    "    for i in range(1,n):\n",
    "        y[i] = b[i]\n",
    "        for j in range(i):\n",
    "            y[i] = y[i] - L[i][j]*y[j]\n",
    "    return y\n",
    "            \n",
    "def LUbackwardsub (U,y):\n",
    "    n = len(U)\n",
    "    x = np.zeros(n)\n",
    "    x[n-1] = y[n-1]/U[n-1,n-1]\n",
    "    for i in range(n-2,-1,-1):\n",
    "        x[i] = y[i]\n",
    "        for j in range(i+1,n):\n",
    "            x[i] = x[i] - U[i][j]*x[j]\n",
    "        x[i] /= U[i][i]\n",
    "    return x\n",
    "    \n",
    "def LUsolve(P,LU,b):\n",
    "    n = len(P)\n",
    "    _b = np.copy(b)\n",
    "    for i in range(n):\n",
    "       b[i] = _b[P[i]] \n",
    "    \n",
    "    y = LUforwardsub(LU,b)\n",
    "    x = LUbackwardsub(LU,y)\n",
    "    return x"
   ]
  },
  {
   "cell_type": "markdown",
   "metadata": {},
   "source": [
    "## 3\n",
    "\n",
    "Resolvamos o sistema para o exemplo acima e comparemos o resultado ao obtido pelo método `solve` de `numpy`:"
   ]
  },
  {
   "cell_type": "code",
   "execution_count": 4,
   "metadata": {
    "collapsed": false
   },
   "outputs": [
    {
     "name": "stdout",
     "output_type": "stream",
     "text": [
      "[0, 1, 2, 3]\n",
      "[[ 1.  0.  0.  1.]\n",
      " [-1.  1.  0.  2.]\n",
      " [-1. -1.  1.  4.]\n",
      " [-1. -1. -1.  8.]]\n",
      "[ 0.  0.  1.  1.]\n",
      "[ 0.  0.  1.  1.]\n",
      "Erro: 0.000000\n"
     ]
    }
   ],
   "source": [
    "A = np.matrix([[ 1., 0., 0., 1.],\n",
    "               [-1., 1., 0., 1.],\n",
    "               [-1.,-1., 1., 1.],\n",
    "               [-1.,-1.,-1., 1.]])\n",
    "b = np.array([1.,1.,2.,0.])\n",
    "\n",
    "P, LU = LUdecomp(A)\n",
    "print(P)\n",
    "print(LU)\n",
    "x = LUsolve(P,LU,b)\n",
    "print(x)\n",
    "\n",
    "x_exp = np.linalg.solve(A,b)\n",
    "print(x_exp)\n",
    "\n",
    "print(\"Erro: %f\" % np.linalg.norm(x-x_exp))"
   ]
  },
  {
   "cell_type": "markdown",
   "metadata": {},
   "source": [
    "## 4"
   ]
  },
  {
   "cell_type": "code",
   "execution_count": 5,
   "metadata": {
    "collapsed": false
   },
   "outputs": [
    {
     "name": "stdout",
     "output_type": "stream",
     "text": [
      "True\n",
      "False\n",
      "True\n"
     ]
    }
   ],
   "source": [
    "def isDiagDom(A):\n",
    "    n = len(A)\n",
    "\n",
    "    # obtém uma matriz apenas com os elementos da diagonal e o restante zerado\n",
    "    diag = np.multiply(np.eye(n), A) \n",
    "    \n",
    "    # soma os valores absolutos dos elementos de cada linha, excluindo o da diagonal\n",
    "    others_sum = np.absolute(A - diag).sum(axis=1) \n",
    "    \n",
    "    # certifica-se de que em todos os casos o elemento da diagonal é maior em módulo\n",
    "    print((np.absolute(diag.sum(axis=1)) > others_sum).sum() == n) \n",
    "\n",
    "diagDom = np.matrix([[10,2,3,4],\n",
    "                     [1,-6,0,4],\n",
    "                     [1,1,3,0],\n",
    "                     [1,2,3,-8]], float)\n",
    "nonDiagDom = np.matrix([[10,2,3,4],\n",
    "                        [1,5,0,4],\n",
    "                        [1,1,3,0],\n",
    "                        [1,2,3,-8]], float)\n",
    "isDiagDom(diagDom) # Verdadeiro\n",
    "isDiagDom(nonDiagDom) # Falso\n",
    "isDiagDom(np.eye(3)) # I -> Verdadeiro"
   ]
  },
  {
   "cell_type": "markdown",
   "metadata": {},
   "source": [
    "## 5\n",
    "\n",
    "O critério de parada principal selecionado foi de que a norma da diferença entre os vetores solução $x^{k+1}$ (nova solução) e $x^{k}$ (solução anterior) fique abaixo de um valor de tolerância `eps` definido pelo usuário. Além disso, pode-se passar um limite de iterações `maxiter` para assegurar que a função irá eventualmente terminar, caso o valor de tolerância jamais seja atingido. Os valores de saída deste método ficam praticamente idênticos ao esperado."
   ]
  },
  {
   "cell_type": "code",
   "execution_count": 6,
   "metadata": {
    "collapsed": false
   },
   "outputs": [
    {
     "name": "stdout",
     "output_type": "stream",
     "text": [
      "Solução: \n",
      "[ 1.  2. -1.  1.]\n",
      "Erro:\n",
      "[[  7.19939663e-11  -1.32647671e-10   9.33333411e-11  -1.06602727e-10]]\n",
      "Solução: \n",
      "[ 7.11111111 -3.22222222]\n",
      "Erro:\n",
      "[[  2.65032440e-12   3.70881992e-10]]\n"
     ]
    }
   ],
   "source": [
    "# Implementado com base no pseudo-código da Wikipédia: \n",
    "#   https://en.wikipedia.org/wiki/Jacobi_method#Algorithm\n",
    "def jacobi(A, b, x0, eps, maxiter):\n",
    "    n = len(A)\n",
    "    x = np.copy(x0)\n",
    "\n",
    "    for itr in range(maxiter):\n",
    "        for i in range(n):\n",
    "            s = 0.;\n",
    "            for j in range(n):\n",
    "                if i != j:\n",
    "                    s += A[i,j] * x0[j]\n",
    "            x[i] = (b[i] - s)/A[i,i]\n",
    "        if np.linalg.norm(x - x0) < eps: \n",
    "            break\n",
    "        x0 = np.copy(x) # x0 sempre tem o valor da iteração anterior\n",
    "    return x\n",
    "\n",
    "# Exemplo da Wikipédia: https://en.wikipedia.org/wiki/Jacobi_method#Example\n",
    "A = np.matrix([[10., -1., 2., 0.],\n",
    "              [-1., 11., -1., 3.],\n",
    "              [2., -1., 10., -1.],\n",
    "              [0.0, 3., -1., 8.]])\n",
    "b = np.array([6., 25., -11., 15.])\n",
    "\n",
    "x = jacobi(A,b,np.zeros_like(b), 1e-10, 1000)\n",
    "\n",
    "print(\"Solução: \")\n",
    "print(x)\n",
    "\n",
    "error = np.dot(A,x) - b\n",
    "print(\"Erro:\")\n",
    "print(error)\n",
    "\n",
    "# Outro exemplo:\n",
    "A = np.matrix([[2.,1.],\n",
    "               [5.,7.]])\n",
    "b = np.array([11.,13.])\n",
    "\n",
    "x = jacobi(A,b,np.ones_like(b), 1e-10, 1000)\n",
    "\n",
    "print(\"Solução: \")\n",
    "print(x)\n",
    "\n",
    "error = np.dot(A,x) - b\n",
    "print(\"Erro:\")\n",
    "print(error)"
   ]
  },
  {
   "cell_type": "markdown",
   "metadata": {},
   "source": [
    "## 6\n",
    "\n",
    "Utilizou-se o mesmo critério de parada que anteriormente. Aqui utiliza-se apenas o $x$ ao longo do algoritmo para as etapas de computação, já que os valores computados da solução podem ser sobreescritos. Contudo, o $x0$ é mantido para se verificar que o critério de parada foi atingido."
   ]
  },
  {
   "cell_type": "code",
   "execution_count": 8,
   "metadata": {
    "collapsed": false
   },
   "outputs": [
    {
     "name": "stdout",
     "output_type": "stream",
     "text": [
      "Solução: \n",
      "[ 1.  2. -1.  1.]\n",
      "Erro:\n",
      "[[ -2.68229883e-11  -1.08677511e-11   5.86197757e-12   0.00000000e+00]]\n",
      "Solução: \n",
      "[ 7.11111111 -3.22222222]\n",
      "Erro:\n",
      "[[ -5.03330710e-11   0.00000000e+00]]\n"
     ]
    }
   ],
   "source": [
    "# Implementado com base no pseudo-código da Wikipédia: \n",
    "#   https://en.wikipedia.org/wiki/Gauss–Seidel_method#Algorithm\n",
    "def gauss_seidel(A, b, x0, eps, maxiter):\n",
    "    n = len(A)\n",
    "    x = np.copy(x0)\n",
    "    \n",
    "    for itr in range(maxiter):\n",
    "        for i in range(n):\n",
    "            s = 0.;\n",
    "            for j in range(n):\n",
    "                if i != j:\n",
    "                    s += A[i,j] * x[j] # aqui mudou de x0 para x\n",
    "            x[i] = (b[i] - s)/A[i,i]\n",
    "        if np.linalg.norm(x - x0) < eps:\n",
    "            break\n",
    "        x0 = np.copy(x) # ainda preserva-se o x da iteração anterior para checar o critério de parada\n",
    "    return x\n",
    "\n",
    "# Exemplo da Wikipédia: https://en.wikipedia.org/wiki/Jacobi_method#Example\n",
    "A = np.matrix([[10., -1., 2., 0.],\n",
    "              [-1., 11., -1., 3.],\n",
    "              [2., -1., 10., -1.],\n",
    "              [0.0, 3., -1., 8.]])\n",
    "b = np.array([6., 25., -11., 15.])\n",
    "\n",
    "x = gauss_seidel(A,b,np.zeros_like(b), 1e-10, 1000)\n",
    "\n",
    "print(\"Solução: \")\n",
    "print(x)\n",
    "\n",
    "error = np.dot(A,x) - b\n",
    "print(\"Erro:\")\n",
    "print(error)\n",
    "\n",
    "# Outro exemplo:\n",
    "A = np.matrix([[2.,1.],\n",
    "               [5.,7.]])\n",
    "b = np.array([11.,13.])\n",
    "\n",
    "x = gauss_seidel(A,b,np.ones_like(b), 1e-10, 1000)\n",
    "\n",
    "print(\"Solução: \")\n",
    "print(x)\n",
    "\n",
    "error = np.dot(A,x) - b\n",
    "print(\"Erro:\")\n",
    "print(error)"
   ]
  }
 ],
 "metadata": {
  "kernelspec": {
   "display_name": "Python 2",
   "language": "python",
   "name": "python2"
  },
  "language_info": {
   "codemirror_mode": {
    "name": "ipython",
    "version": 2
   },
   "file_extension": ".py",
   "mimetype": "text/x-python",
   "name": "python",
   "nbconvert_exporter": "python",
   "pygments_lexer": "ipython2",
   "version": "2.7.11"
  }
 },
 "nbformat": 4,
 "nbformat_minor": 0
}
